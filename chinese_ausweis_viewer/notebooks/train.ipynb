{
 "cells": [
  {
   "cell_type": "code",
   "execution_count": 1,
   "metadata": {},
   "outputs": [
    {
     "data": {
      "text/plain": [
       "'Intel(R) Core(TM) i3-6100U CPU @ 2.30GHz'"
      ]
     },
     "execution_count": 1,
     "metadata": {},
     "output_type": "execute_result"
    }
   ],
   "source": [
    "import cpuinfo\n",
    "cpuinfo.get_cpu_info()['brand']"
   ]
  },
  {
   "cell_type": "code",
   "execution_count": 2,
   "metadata": {},
   "outputs": [
    {
     "data": {
      "text/plain": [
       "[name: \"/device:CPU:0\"\n",
       " device_type: \"CPU\"\n",
       " memory_limit: 268435456\n",
       " locality {\n",
       " }\n",
       " incarnation: 17528890222903738202, name: \"/device:XLA_CPU:0\"\n",
       " device_type: \"XLA_CPU\"\n",
       " memory_limit: 17179869184\n",
       " locality {\n",
       " }\n",
       " incarnation: 11141117092253367110\n",
       " physical_device_desc: \"device: XLA_CPU device\"]"
      ]
     },
     "execution_count": 2,
     "metadata": {},
     "output_type": "execute_result"
    }
   ],
   "source": [
    "from tensorflow.python.client import device_lib\n",
    "device_lib.list_local_devices()"
   ]
  },
  {
   "cell_type": "code",
   "execution_count": 3,
   "metadata": {},
   "outputs": [
    {
     "data": {
      "text/plain": [
       "False"
      ]
     },
     "execution_count": 3,
     "metadata": {},
     "output_type": "execute_result"
    }
   ],
   "source": [
    "import tensorflow as tf\n",
    "tf.test.is_gpu_available()"
   ]
  },
  {
   "cell_type": "code",
   "execution_count": 4,
   "metadata": {},
   "outputs": [
    {
     "data": {
      "text/plain": [
       "''"
      ]
     },
     "execution_count": 4,
     "metadata": {},
     "output_type": "execute_result"
    }
   ],
   "source": [
    "tf.test.gpu_device_name()"
   ]
  },
  {
   "cell_type": "code",
   "execution_count": 5,
   "metadata": {},
   "outputs": [],
   "source": [
    "import imageio\n",
    "from tqdm import tqdm\n",
    "import multiprocessing as mp\n",
    "import pandas as pd\n",
    "import seaborn as sns"
   ]
  },
  {
   "cell_type": "code",
   "execution_count": 6,
   "metadata": {
    "colab": {
     "base_uri": "https://localhost:8080/",
     "height": 34
    },
    "colab_type": "code",
    "id": "Ne_CfjJIGepy",
    "outputId": "3a875ac3-c3f8-41a4-8a21-325e25ec0132"
   },
   "outputs": [
    {
     "name": "stderr",
     "output_type": "stream",
     "text": [
      "Using TensorFlow backend.\n"
     ]
    }
   ],
   "source": [
    "%run ../utils/unet.py\n",
    "%run ../utils/helpers.py\n",
    "%run ../utils/generate_flat_bg.py\n",
    "%run ../utils/generate_bg.py\n",
    "%run ../utils/generate_train_set.py"
   ]
  },
  {
   "cell_type": "code",
   "execution_count": 7,
   "metadata": {
    "colab": {},
    "colab_type": "code",
    "id": "aUOU720tHnoJ"
   },
   "outputs": [],
   "source": [
    "h_size = 256\n",
    "w_size = 256\n",
    "start_neurons = 16\n",
    "mask_pool_size = 100\n",
    "generate_batch_size = 20\n",
    "train_num = 100\n",
    "bg_admix_iters = 2\n",
    "\n",
    "cores_count = mp.cpu_count()\n",
    "# cpu_pool = mp.Pool(processes=cores_count)"
   ]
  },
  {
   "cell_type": "code",
   "execution_count": 8,
   "metadata": {},
   "outputs": [
    {
     "name": "stdout",
     "output_type": "stream",
     "text": [
      "WARNING:tensorflow:From /usr/local/lib/python3.5/dist-packages/tensorflow/python/framework/op_def_library.py:263: colocate_with (from tensorflow.python.framework.ops) is deprecated and will be removed in a future version.\n",
      "Instructions for updating:\n",
      "Colocations handled automatically by placer.\n",
      "WARNING:tensorflow:From /usr/local/lib/python3.5/dist-packages/keras/backend/tensorflow_backend.py:3445: calling dropout (from tensorflow.python.ops.nn_ops) with keep_prob is deprecated and will be removed in a future version.\n",
      "Instructions for updating:\n",
      "Please use `rate` instead of `keep_prob`. Rate should be set to `rate = 1 - keep_prob`.\n"
     ]
    }
   ],
   "source": [
    "train_x = np.zeros((train_num, h_size, w_size, 3), dtype='float32')\n",
    "train_y = np.zeros((train_num, h_size, w_size, 1), dtype='float32')\n",
    "\n",
    "model = get_compiled_model(h_size, w_size, start_neurons)"
   ]
  },
  {
   "cell_type": "code",
   "execution_count": 9,
   "metadata": {},
   "outputs": [],
   "source": [
    "sample_img = imageio.imread('../data/train/original_sample_blur_1000.jpg', pilmode=\"RGB\")\n",
    "mask_img = imageio.imread('../data/train/original_sample_mask_inv_1000.jpg', pilmode=\"RGB\", as_gray=True)\n",
    "\n",
    "original_smpl = np.array(sample_img, dtype=np.uint8)\n",
    "original_mask = np.array(mask_img, dtype=np.uint8)"
   ]
  },
  {
   "cell_type": "code",
   "execution_count": 10,
   "metadata": {},
   "outputs": [],
   "source": [
    "simplest_flat_bg = imageio.imread('../data/train/simplest_flat_bg.jpg', pilmode=\"RGB\")\n",
    "simple_bg = imageio.imread('../data/train/simplest_bg.jpg', pilmode=\"RGB\")"
   ]
  },
  {
   "cell_type": "code",
   "execution_count": 11,
   "metadata": {},
   "outputs": [
    {
     "name": "stderr",
     "output_type": "stream",
     "text": [
      "100%|██████████| 100/100 [00:07<00:00, 15.29it/s]\n"
     ]
    }
   ],
   "source": [
    "mask_pool = [\n",
    "    get_mask(h_size, w_size) \n",
    "    for _ in tqdm(range(mask_pool_size))\n",
    "]"
   ]
  },
  {
   "cell_type": "code",
   "execution_count": 12,
   "metadata": {},
   "outputs": [],
   "source": [
    "def get_next_batch(\n",
    "    original_mask,\n",
    "    original_smpl,\n",
    "    simplest_flat_bg,\n",
    "    simple_bg,\n",
    "    mask_pool,\n",
    "    batch_size,\n",
    "):\n",
    "    return [\n",
    "        next_pair(\n",
    "            original_mask,\n",
    "            original_smpl,\n",
    "            simplest_flat_bg,\n",
    "            simple_bg,\n",
    "            mask_pool,\n",
    "        )\n",
    "        for _ in range(batch_size)\n",
    "    ]"
   ]
  },
  {
   "cell_type": "code",
   "execution_count": 23,
   "metadata": {},
   "outputs": [
    {
     "name": "stdout",
     "output_type": "stream",
     "text": [
      "Batch 0 complete\n",
      "Batch 1 complete\n",
      "Batch 2 complete\n",
      "Batch 3 complete\n",
      "Batch 4 complete\n",
      "CPU times: user 242 ms, sys: 602 ms, total: 844 ms\n",
      "Wall time: 17.3 s\n"
     ]
    }
   ],
   "source": [
    "%%time\n",
    "generate_batches_count = int(train_num / generate_batch_size)\n",
    "with mp.Pool(processes=cores_count) as pool:\n",
    "    results = [\n",
    "        pool.apply_async(\n",
    "            get_next_batch, \n",
    "            args=(\n",
    "                original_mask,\n",
    "                original_smpl,\n",
    "                simplest_flat_bg,\n",
    "                simple_bg,\n",
    "                mask_pool,\n",
    "                generate_batch_size,\n",
    "            )\n",
    "        ) \n",
    "        for _ in range(generate_batches_count)\n",
    "    ]\n",
    "    k = 0\n",
    "    batch_n = 0\n",
    "    for list_pairs in [res.get() for res in results]:\n",
    "        print('Batch %s complete' % batch_n)\n",
    "        batch_n += 1\n",
    "        for img, msk in list_pairs:\n",
    "            train_x[k] = img\n",
    "            train_y[k] = msk\n",
    "            k += 1"
   ]
  },
  {
   "cell_type": "code",
   "execution_count": 24,
   "metadata": {},
   "outputs": [
    {
     "name": "stdout",
     "output_type": "stream",
     "text": [
      "CPU times: user 2.33 s, sys: 3.89 s, total: 6.22 s\n",
      "Wall time: 16.1 s\n"
     ]
    }
   ],
   "source": [
    "%%time\n",
    "with mp.Pool(processes=cores_count) as cpu_pool:\n",
    "    coros = [\n",
    "        cpu_pool.apply_async(\n",
    "            next_pair, \n",
    "            args=(\n",
    "                original_mask,\n",
    "                original_smpl,\n",
    "                simplest_flat_bg,\n",
    "                simple_bg,\n",
    "                mask_pool,\n",
    "            )\n",
    "        ) \n",
    "        for _ in range(train_num)\n",
    "    ]\n",
    "    k = 0\n",
    "    for img, msk in [p.get() for p in coros]:\n",
    "        train_x[k] = img\n",
    "        train_y[k] = msk\n",
    "        k += 1"
   ]
  },
  {
   "cell_type": "code",
   "execution_count": 15,
   "metadata": {},
   "outputs": [],
   "source": [
    "# acc = []\n",
    "# val_acc = []\n",
    "# for _ in range (50):\n",
    "#     history = model.fit(train_x, train_y,\n",
    "#                         batch_size=32,\n",
    "#                         epochs=1,\n",
    "#                         verbose=1,\n",
    "#                         validation_split=0.1\n",
    "#                        )    \n",
    "#     acc_ = history.history['my_iou_metric'][0]\n",
    "#     val_acc_ = history.history['val_my_iou_metric'][0]\n",
    "#     acc.append(acc_)\n",
    "#     val_acc.append(val_acc_)\n",
    "#     if acc_ > 0.99:\n",
    "#         break"
   ]
  },
  {
   "cell_type": "code",
   "execution_count": 16,
   "metadata": {},
   "outputs": [],
   "source": [
    "# df = pd.DataFrame({'x': list(range(len(acc))), 'y': acc})\n",
    "# sns.lmplot(x=\"x\", y=\"y\", data=df, order=2);"
   ]
  },
  {
   "cell_type": "code",
   "execution_count": 17,
   "metadata": {},
   "outputs": [],
   "source": [
    "# df = pd.DataFrame({'x': list(range(len(val_acc))), 'y': val_acc})\n",
    "# sns.lmplot(x=\"x\", y=\"y\", data=df, order=2);"
   ]
  }
 ],
 "metadata": {
  "colab": {
   "collapsed_sections": [],
   "name": "repo_test.ipynb",
   "provenance": [],
   "version": "0.3.2"
  },
  "kernelspec": {
   "display_name": "Python 3",
   "language": "python",
   "name": "python3"
  },
  "language_info": {
   "codemirror_mode": {
    "name": "ipython",
    "version": 3
   },
   "file_extension": ".py",
   "mimetype": "text/x-python",
   "name": "python",
   "nbconvert_exporter": "python",
   "pygments_lexer": "ipython3",
   "version": "3.5.2"
  }
 },
 "nbformat": 4,
 "nbformat_minor": 1
}
