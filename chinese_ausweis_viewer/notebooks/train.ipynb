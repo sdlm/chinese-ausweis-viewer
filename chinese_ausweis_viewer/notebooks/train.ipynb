{
 "cells": [
  {
   "cell_type": "code",
   "execution_count": 1,
   "metadata": {},
   "outputs": [
    {
     "data": {
      "text/plain": [
       "'Intel Xeon Processor (Skylake, IBRS)'"
      ]
     },
     "execution_count": 1,
     "metadata": {},
     "output_type": "execute_result"
    }
   ],
   "source": [
    "import cpuinfo\n",
    "cpuinfo.get_cpu_info()['brand']"
   ]
  },
  {
   "cell_type": "code",
   "execution_count": 2,
   "metadata": {},
   "outputs": [
    {
     "data": {
      "text/plain": [
       "[name: \"/device:CPU:0\"\n",
       " device_type: \"CPU\"\n",
       " memory_limit: 268435456\n",
       " locality {\n",
       " }\n",
       " incarnation: 15925543373770702547, name: \"/device:XLA_GPU:0\"\n",
       " device_type: \"XLA_GPU\"\n",
       " memory_limit: 17179869184\n",
       " locality {\n",
       " }\n",
       " incarnation: 7302731545365684373\n",
       " physical_device_desc: \"device: XLA_GPU device\", name: \"/device:XLA_CPU:0\"\n",
       " device_type: \"XLA_CPU\"\n",
       " memory_limit: 17179869184\n",
       " locality {\n",
       " }\n",
       " incarnation: 14932943525986467211\n",
       " physical_device_desc: \"device: XLA_CPU device\", name: \"/device:GPU:0\"\n",
       " device_type: \"GPU\"\n",
       " memory_limit: 15956161332\n",
       " locality {\n",
       "   bus_id: 1\n",
       "   links {\n",
       "   }\n",
       " }\n",
       " incarnation: 14784631459705184496\n",
       " physical_device_desc: \"device: 0, name: Tesla P100-PCIE-16GB, pci bus id: 0000:00:02.0, compute capability: 6.0\"]"
      ]
     },
     "execution_count": 2,
     "metadata": {},
     "output_type": "execute_result"
    }
   ],
   "source": [
    "from tensorflow.python.client import device_lib\n",
    "device_lib.list_local_devices()"
   ]
  },
  {
   "cell_type": "code",
   "execution_count": 3,
   "metadata": {},
   "outputs": [
    {
     "data": {
      "text/plain": [
       "True"
      ]
     },
     "execution_count": 3,
     "metadata": {},
     "output_type": "execute_result"
    }
   ],
   "source": [
    "import tensorflow as tf\n",
    "tf.test.is_gpu_available()"
   ]
  },
  {
   "cell_type": "code",
   "execution_count": 4,
   "metadata": {},
   "outputs": [
    {
     "data": {
      "text/plain": [
       "'/device:GPU:0'"
      ]
     },
     "execution_count": 4,
     "metadata": {},
     "output_type": "execute_result"
    }
   ],
   "source": [
    "tf.test.gpu_device_name()"
   ]
  },
  {
   "cell_type": "code",
   "execution_count": 5,
   "metadata": {},
   "outputs": [],
   "source": [
    "import imageio\n",
    "from tqdm import tqdm\n",
    "import multiprocessing as mp\n",
    "import pandas as pd\n",
    "import seaborn as sns"
   ]
  },
  {
   "cell_type": "code",
   "execution_count": 6,
   "metadata": {
    "colab": {
     "base_uri": "https://localhost:8080/",
     "height": 34.0
    },
    "colab_type": "code",
    "id": "Ne_CfjJIGepy",
    "outputId": "3a875ac3-c3f8-41a4-8a21-325e25ec0132"
   },
   "outputs": [
    {
     "name": "stderr",
     "output_type": "stream",
     "text": [
      "Using TensorFlow backend.\n"
     ]
    }
   ],
   "source": [
    "%run ../utils/unet.py\n",
    "%run ../utils/helpers.py\n",
    "%run ../utils/generate_flat_bg.py\n",
    "%run ../utils/generate_bg.py\n",
    "%run ../utils/generate_train_set.py"
   ]
  },
  {
   "cell_type": "code",
   "execution_count": 7,
   "metadata": {
    "colab": {},
    "colab_type": "code",
    "id": "aUOU720tHnoJ"
   },
   "outputs": [],
   "source": [
    "h_size = 256\n",
    "w_size = 256\n",
    "start_neurons = 16\n",
    "mask_pool_size = 1000\n",
    "train_num = 1000\n",
    "bg_admix_iters = 5\n",
    "\n",
    "cores_count = mp.cpu_count()\n",
    "cpu_pool = mp.Pool(processes=cores_count)"
   ]
  },
  {
   "cell_type": "code",
   "execution_count": 8,
   "metadata": {},
   "outputs": [
    {
     "name": "stdout",
     "output_type": "stream",
     "text": [
      "WARNING:tensorflow:From /usr/local/lib/python3.5/dist-packages/tensorflow/python/framework/op_def_library.py:263: colocate_with (from tensorflow.python.framework.ops) is deprecated and will be removed in a future version.\n",
      "Instructions for updating:\n",
      "Colocations handled automatically by placer.\n",
      "WARNING:tensorflow:From /usr/local/lib/python3.5/dist-packages/keras/backend/tensorflow_backend.py:3445: calling dropout (from tensorflow.python.ops.nn_ops) with keep_prob is deprecated and will be removed in a future version.\n",
      "Instructions for updating:\n",
      "Please use `rate` instead of `keep_prob`. Rate should be set to `rate = 1 - keep_prob`.\n"
     ]
    }
   ],
   "source": [
    "train_x = np.zeros((train_num, h_size, w_size, 3), dtype='float32')\n",
    "train_y = np.zeros((train_num, h_size, w_size, 1), dtype='float32')\n",
    "\n",
    "model = get_compiled_model(h_size, w_size, start_neurons)"
   ]
  },
  {
   "cell_type": "code",
   "execution_count": 9,
   "metadata": {},
   "outputs": [],
   "source": [
    "sample_img = imageio.imread('../data/train/original_sample_blur_1000.jpg', pilmode=\"RGB\")\n",
    "mask_img = imageio.imread('../data/train/original_sample_mask_inv_1000.jpg', pilmode=\"RGB\", as_gray=True)\n",
    "\n",
    "original_smpl = np.array(sample_img, dtype=np.uint8)\n",
    "original_mask = np.array(mask_img, dtype=np.uint8)"
   ]
  },
  {
   "cell_type": "code",
   "execution_count": 10,
   "metadata": {},
   "outputs": [],
   "source": [
    "simplest_flat_bg = imageio.imread('../data/train/simplest_flat_bg.jpg', pilmode=\"RGB\")\n",
    "simple_bg = imageio.imread('../data/train/simplest_bg.jpg', pilmode=\"RGB\")"
   ]
  },
  {
   "cell_type": "code",
   "execution_count": 11,
   "metadata": {},
   "outputs": [
    {
     "name": "stderr",
     "output_type": "stream",
     "text": [
      "100%|██████████| 1000/1000 [00:37<00:00, 27.00it/s]\n"
     ]
    }
   ],
   "source": [
    "mask_pool = [\n",
    "    get_mask(h_size, w_size) \n",
    "    for _ in tqdm(range(mask_pool_size))\n",
    "]"
   ]
  },
  {
   "cell_type": "code",
   "execution_count": 12,
   "metadata": {},
   "outputs": [],
   "source": [
    "# %%time\n",
    "# for k in range(train_num): # tqdm\n",
    "#     img, msk = next_pair(\n",
    "#         original_mask,\n",
    "#         original_smpl,\n",
    "#         simplest_flat_bg,\n",
    "#         simple_bg,\n",
    "#         mask_pool,\n",
    "#     )\n",
    "#     train_x[k] = img\n",
    "#     train_y[k] = msk"
   ]
  },
  {
   "cell_type": "code",
   "execution_count": 13,
   "metadata": {},
   "outputs": [
    {
     "name": "stdout",
     "output_type": "stream",
     "text": [
      "CPU times: user 11.5 s, sys: 39 s, total: 50.5 s\n",
      "Wall time: 1min 6s\n"
     ]
    }
   ],
   "source": [
    "%%time\n",
    "coros = [\n",
    "    cpu_pool.apply_async(\n",
    "        next_pair, \n",
    "        args=(\n",
    "            original_mask,\n",
    "            original_smpl,\n",
    "            simplest_flat_bg,\n",
    "            simple_bg,\n",
    "            mask_pool,\n",
    "        )\n",
    "    ) \n",
    "    for _ in range(train_num)\n",
    "]\n",
    "k = 0\n",
    "for img, msk in [p.get() for p in coros]:\n",
    "    train_x[k] = img\n",
    "    train_y[k] = msk\n",
    "    k += 1"
   ]
  },
  {
   "cell_type": "code",
   "execution_count": 14,
   "metadata": {},
   "outputs": [
    {
     "name": "stdout",
     "output_type": "stream",
     "text": [
      "WARNING:tensorflow:From /usr/local/lib/python3.5/dist-packages/tensorflow/python/ops/math_ops.py:3066: to_int32 (from tensorflow.python.ops.math_ops) is deprecated and will be removed in a future version.\n",
      "Instructions for updating:\n",
      "Use tf.cast instead.\n",
      "Train on 90 samples, validate on 10 samples\n",
      "Epoch 1/1\n",
      "90/90 [==============================] - 6s 67ms/step - loss: 1.3625 - my_iou_metric: 0.0044 - val_loss: 1.1688 - val_my_iou_metric: 0.0000e+00\n",
      "Train on 90 samples, validate on 10 samples\n",
      "Epoch 1/1\n",
      "90/90 [==============================] - 1s 8ms/step - loss: 1.3493 - my_iou_metric: 0.0000e+00 - val_loss: 1.1954 - val_my_iou_metric: 0.0000e+00\n",
      "Train on 90 samples, validate on 10 samples\n",
      "Epoch 1/1\n",
      "90/90 [==============================] - 1s 8ms/step - loss: 1.3452 - my_iou_metric: 0.0000e+00 - val_loss: 1.1963 - val_my_iou_metric: 0.0000e+00\n",
      "Train on 90 samples, validate on 10 samples\n",
      "Epoch 1/1\n",
      "90/90 [==============================] - 1s 8ms/step - loss: 1.3286 - my_iou_metric: 0.0000e+00 - val_loss: 1.1886 - val_my_iou_metric: 0.0000e+00\n",
      "Train on 90 samples, validate on 10 samples\n",
      "Epoch 1/1\n",
      "90/90 [==============================] - 1s 7ms/step - loss: 1.3281 - my_iou_metric: 0.0000e+00 - val_loss: 1.1939 - val_my_iou_metric: 0.0000e+00\n",
      "Train on 90 samples, validate on 10 samples\n",
      "Epoch 1/1\n",
      "90/90 [==============================] - 1s 7ms/step - loss: 1.3138 - my_iou_metric: 0.0000e+00 - val_loss: 1.2204 - val_my_iou_metric: 0.0000e+00\n",
      "Train on 90 samples, validate on 10 samples\n",
      "Epoch 1/1\n",
      "90/90 [==============================] - 1s 7ms/step - loss: 1.2896 - my_iou_metric: 0.0000e+00 - val_loss: 1.3211 - val_my_iou_metric: 0.0000e+00\n",
      "Train on 90 samples, validate on 10 samples\n",
      "Epoch 1/1\n",
      "90/90 [==============================] - 1s 8ms/step - loss: 1.2663 - my_iou_metric: 0.0000e+00 - val_loss: 1.2745 - val_my_iou_metric: 0.0000e+00\n",
      "Train on 90 samples, validate on 10 samples\n",
      "Epoch 1/1\n",
      "90/90 [==============================] - 1s 7ms/step - loss: 1.2286 - my_iou_metric: 0.0000e+00 - val_loss: 1.2233 - val_my_iou_metric: 0.0000e+00\n",
      "Train on 90 samples, validate on 10 samples\n",
      "Epoch 1/1\n",
      "90/90 [==============================] - 1s 8ms/step - loss: 1.1831 - my_iou_metric: 0.0000e+00 - val_loss: 1.2325 - val_my_iou_metric: 0.0000e+00\n",
      "Train on 90 samples, validate on 10 samples\n",
      "Epoch 1/1\n",
      "90/90 [==============================] - 1s 7ms/step - loss: 1.1494 - my_iou_metric: 0.0000e+00 - val_loss: 1.2048 - val_my_iou_metric: 0.0000e+00\n",
      "Train on 90 samples, validate on 10 samples\n",
      "Epoch 1/1\n",
      "90/90 [==============================] - 1s 7ms/step - loss: 1.1173 - my_iou_metric: 0.0000e+00 - val_loss: 1.1938 - val_my_iou_metric: 0.0000e+00\n",
      "Train on 90 samples, validate on 10 samples\n",
      "Epoch 1/1\n",
      "90/90 [==============================] - 1s 7ms/step - loss: 1.1045 - my_iou_metric: 0.0000e+00 - val_loss: 1.1829 - val_my_iou_metric: 0.0000e+00\n",
      "Train on 90 samples, validate on 10 samples\n",
      "Epoch 1/1\n",
      "90/90 [==============================] - 1s 8ms/step - loss: 1.0953 - my_iou_metric: 0.0000e+00 - val_loss: 1.1750 - val_my_iou_metric: 0.0000e+00\n",
      "Train on 90 samples, validate on 10 samples\n",
      "Epoch 1/1\n",
      "90/90 [==============================] - 1s 8ms/step - loss: 1.0864 - my_iou_metric: 0.0000e+00 - val_loss: 1.1729 - val_my_iou_metric: 0.0000e+00\n",
      "Train on 90 samples, validate on 10 samples\n",
      "Epoch 1/1\n",
      "90/90 [==============================] - 1s 8ms/step - loss: 1.0678 - my_iou_metric: 0.0000e+00 - val_loss: 1.2108 - val_my_iou_metric: 0.0000e+00\n",
      "Train on 90 samples, validate on 10 samples\n",
      "Epoch 1/1\n",
      "90/90 [==============================] - 1s 8ms/step - loss: 1.0647 - my_iou_metric: 0.0000e+00 - val_loss: 1.2262 - val_my_iou_metric: 0.0000e+00\n",
      "Train on 90 samples, validate on 10 samples\n",
      "Epoch 1/1\n",
      "90/90 [==============================] - 1s 7ms/step - loss: 1.0633 - my_iou_metric: 0.0000e+00 - val_loss: 1.1714 - val_my_iou_metric: 0.0000e+00\n",
      "Train on 90 samples, validate on 10 samples\n",
      "Epoch 1/1\n",
      "90/90 [==============================] - 1s 7ms/step - loss: 1.0494 - my_iou_metric: 0.0000e+00 - val_loss: 1.1704 - val_my_iou_metric: 0.0000e+00\n",
      "Train on 90 samples, validate on 10 samples\n",
      "Epoch 1/1\n",
      "90/90 [==============================] - 1s 8ms/step - loss: 1.0319 - my_iou_metric: 0.0000e+00 - val_loss: 1.2061 - val_my_iou_metric: 0.0000e+00\n",
      "Train on 90 samples, validate on 10 samples\n",
      "Epoch 1/1\n",
      "90/90 [==============================] - 1s 8ms/step - loss: 1.0010 - my_iou_metric: 0.0000e+00 - val_loss: 1.3749 - val_my_iou_metric: 0.0000e+00\n",
      "Train on 90 samples, validate on 10 samples\n",
      "Epoch 1/1\n",
      "90/90 [==============================] - 1s 7ms/step - loss: 0.9405 - my_iou_metric: 0.0000e+00 - val_loss: 3.3166 - val_my_iou_metric: 0.0000e+00\n",
      "Train on 90 samples, validate on 10 samples\n",
      "Epoch 1/1\n",
      "90/90 [==============================] - 1s 8ms/step - loss: 1.3713 - my_iou_metric: 0.0000e+00 - val_loss: 1.1767 - val_my_iou_metric: 0.0000e+00\n",
      "Train on 90 samples, validate on 10 samples\n",
      "Epoch 1/1\n",
      "90/90 [==============================] - 1s 7ms/step - loss: 1.0453 - my_iou_metric: 0.0000e+00 - val_loss: 1.1916 - val_my_iou_metric: 0.0000e+00\n",
      "Train on 90 samples, validate on 10 samples\n",
      "Epoch 1/1\n",
      "90/90 [==============================] - 1s 8ms/step - loss: 1.0227 - my_iou_metric: 0.0000e+00 - val_loss: 1.1708 - val_my_iou_metric: 0.0000e+00\n",
      "Train on 90 samples, validate on 10 samples\n",
      "Epoch 1/1\n",
      "90/90 [==============================] - 1s 7ms/step - loss: 1.0136 - my_iou_metric: 0.0000e+00 - val_loss: 1.1546 - val_my_iou_metric: 0.0000e+00\n",
      "Train on 90 samples, validate on 10 samples\n",
      "Epoch 1/1\n",
      "90/90 [==============================] - 1s 7ms/step - loss: 1.0183 - my_iou_metric: 0.0000e+00 - val_loss: 1.1557 - val_my_iou_metric: 0.0000e+00\n",
      "Train on 90 samples, validate on 10 samples\n",
      "Epoch 1/1\n",
      "90/90 [==============================] - 1s 7ms/step - loss: 1.0022 - my_iou_metric: 0.0000e+00 - val_loss: 1.1930 - val_my_iou_metric: 0.0000e+00\n",
      "Train on 90 samples, validate on 10 samples\n",
      "Epoch 1/1\n",
      "90/90 [==============================] - 1s 8ms/step - loss: 0.9996 - my_iou_metric: 0.0700 - val_loss: 1.1794 - val_my_iou_metric: 0.2000\n",
      "Train on 90 samples, validate on 10 samples\n",
      "Epoch 1/1\n",
      "90/90 [==============================] - 1s 7ms/step - loss: 0.9939 - my_iou_metric: 0.3411 - val_loss: 1.1638 - val_my_iou_metric: 0.0000e+00\n",
      "Train on 90 samples, validate on 10 samples\n",
      "Epoch 1/1\n",
      "90/90 [==============================] - 1s 7ms/step - loss: 0.9770 - my_iou_metric: 0.3333 - val_loss: 1.2056 - val_my_iou_metric: 0.0000e+00\n",
      "Train on 90 samples, validate on 10 samples\n",
      "Epoch 1/1\n",
      "90/90 [==============================] - 1s 7ms/step - loss: 0.9647 - my_iou_metric: 0.3433 - val_loss: 1.1593 - val_my_iou_metric: 0.4000\n",
      "Train on 90 samples, validate on 10 samples\n",
      "Epoch 1/1\n",
      "90/90 [==============================] - 1s 8ms/step - loss: 0.9435 - my_iou_metric: 0.4311 - val_loss: 1.1331 - val_my_iou_metric: 0.4000\n",
      "Train on 90 samples, validate on 10 samples\n",
      "Epoch 1/1\n",
      "90/90 [==============================] - 1s 7ms/step - loss: 0.8969 - my_iou_metric: 0.4311 - val_loss: 1.4000 - val_my_iou_metric: 0.0000e+00\n",
      "Train on 90 samples, validate on 10 samples\n",
      "Epoch 1/1\n",
      "90/90 [==============================] - 1s 7ms/step - loss: 0.8563 - my_iou_metric: 0.3389 - val_loss: 1.0143 - val_my_iou_metric: 0.5000\n",
      "Train on 90 samples, validate on 10 samples\n",
      "Epoch 1/1\n",
      "90/90 [==============================] - 1s 7ms/step - loss: 0.8133 - my_iou_metric: 0.3878 - val_loss: 1.3530 - val_my_iou_metric: 0.0000e+00\n",
      "Train on 90 samples, validate on 10 samples\n",
      "Epoch 1/1\n",
      "90/90 [==============================] - 1s 7ms/step - loss: 0.7734 - my_iou_metric: 0.4178 - val_loss: 1.2500 - val_my_iou_metric: 0.0000e+00\n",
      "Train on 90 samples, validate on 10 samples\n",
      "Epoch 1/1\n",
      "90/90 [==============================] - 1s 7ms/step - loss: 0.6967 - my_iou_metric: 0.3811 - val_loss: 0.8751 - val_my_iou_metric: 0.6000\n",
      "Train on 90 samples, validate on 10 samples\n",
      "Epoch 1/1\n",
      "90/90 [==============================] - 1s 7ms/step - loss: 0.6218 - my_iou_metric: 0.4467 - val_loss: 1.0858 - val_my_iou_metric: 0.3000\n",
      "Train on 90 samples, validate on 10 samples\n",
      "Epoch 1/1\n",
      "90/90 [==============================] - 1s 7ms/step - loss: 0.5781 - my_iou_metric: 0.4522 - val_loss: 1.2866 - val_my_iou_metric: 0.0000e+00\n",
      "Train on 90 samples, validate on 10 samples\n",
      "Epoch 1/1\n",
      "90/90 [==============================] - 1s 7ms/step - loss: 0.5581 - my_iou_metric: 0.4644 - val_loss: 0.7804 - val_my_iou_metric: 0.6000\n",
      "Train on 90 samples, validate on 10 samples\n",
      "Epoch 1/1\n",
      "90/90 [==============================] - 1s 7ms/step - loss: 0.5746 - my_iou_metric: 0.4833 - val_loss: 1.4783 - val_my_iou_metric: 0.0000e+00\n",
      "Train on 90 samples, validate on 10 samples\n",
      "Epoch 1/1\n",
      "90/90 [==============================] - 1s 7ms/step - loss: 0.6368 - my_iou_metric: 0.4544 - val_loss: 0.7002 - val_my_iou_metric: 0.7000\n",
      "Train on 90 samples, validate on 10 samples\n",
      "Epoch 1/1\n",
      "90/90 [==============================] - 1s 7ms/step - loss: 0.5177 - my_iou_metric: 0.5078 - val_loss: 0.9513 - val_my_iou_metric: 0.5000\n",
      "Train on 90 samples, validate on 10 samples\n",
      "Epoch 1/1\n",
      "90/90 [==============================] - 1s 7ms/step - loss: 0.5037 - my_iou_metric: 0.4978 - val_loss: 1.3761 - val_my_iou_metric: 0.0000e+00\n",
      "Train on 90 samples, validate on 10 samples\n",
      "Epoch 1/1\n",
      "90/90 [==============================] - 1s 7ms/step - loss: 0.4718 - my_iou_metric: 0.5678 - val_loss: 1.0248 - val_my_iou_metric: 0.1000\n",
      "Train on 90 samples, validate on 10 samples\n",
      "Epoch 1/1\n",
      "90/90 [==============================] - 1s 7ms/step - loss: 0.4390 - my_iou_metric: 0.5789 - val_loss: 1.0331 - val_my_iou_metric: 0.2000\n",
      "Train on 90 samples, validate on 10 samples\n",
      "Epoch 1/1\n",
      "90/90 [==============================] - 1s 7ms/step - loss: 0.3923 - my_iou_metric: 0.6200 - val_loss: 0.9096 - val_my_iou_metric: 0.2000\n",
      "Train on 90 samples, validate on 10 samples\n",
      "Epoch 1/1\n",
      "90/90 [==============================] - 1s 7ms/step - loss: 0.5542 - my_iou_metric: 0.5233 - val_loss: 2.1055 - val_my_iou_metric: 0.0000e+00\n",
      "Train on 90 samples, validate on 10 samples\n",
      "Epoch 1/1\n",
      "90/90 [==============================] - 1s 7ms/step - loss: 0.5283 - my_iou_metric: 0.4722 - val_loss: 0.6573 - val_my_iou_metric: 0.6000\n"
     ]
    }
   ],
   "source": [
    "acc = []\n",
    "val_acc = []\n",
    "for _ in range (50):\n",
    "    history = model.fit(train_x, train_y,\n",
    "                        batch_size=32,\n",
    "                        epochs=1,\n",
    "                        verbose=1,\n",
    "                        validation_split=0.1\n",
    "                       )    \n",
    "    acc_ = history.history['my_iou_metric'][0]\n",
    "    val_acc_ = history.history['val_my_iou_metric'][0]\n",
    "    acc.append(acc_)\n",
    "    val_acc.append(val_acc_)\n",
    "    if acc_ > 0.99:\n",
    "        break"
   ]
  },
  {
   "cell_type": "code",
   "execution_count": 15,
   "metadata": {},
   "outputs": [
    {
     "data": {
      "image/png": "[encoded data removed]",
      "text/plain": [
       "<Figure size 360x360 with 1 Axes>"
      ]
     },
     "metadata": {
      "needs_background": "light"
     },
     "output_type": "display_data"
    }
   ],
   "source": [
    "df = pd.DataFrame({'x': list(range(len(acc))), 'y': acc})\n",
    "sns.lmplot(x=\"x\", y=\"y\", data=df, order=2);"
   ]
  },
  {
   "cell_type": "code",
   "execution_count": 16,
   "metadata": {},
   "outputs": [
    {
     "data": {
      "image/png": "[encoded data removed]",
      "text/plain": [
       "<Figure size 360x360 with 1 Axes>"
      ]
     },
     "metadata": {
      "needs_background": "light"
     },
     "output_type": "display_data"
    }
   ],
   "source": [
    "df = pd.DataFrame({'x': list(range(len(val_acc))), 'y': val_acc})\n",
    "sns.lmplot(x=\"x\", y=\"y\", data=df, order=2);"
   ]
  }
 ],
 "metadata": {
  "colab": {
   "collapsed_sections": [],
   "name": "repo_test.ipynb",
   "provenance": [],
   "version": "0.3.2"
  },
  "kernelspec": {
   "display_name": "Python 3",
   "language": "python",
   "name": "python3"
  },
  "language_info": {
   "codemirror_mode": {
    "name": "ipython",
    "version": 3
   },
   "file_extension": ".py",
   "mimetype": "text/x-python",
   "name": "python",
   "nbconvert_exporter": "python",
   "pygments_lexer": "ipython3",
   "version": "3.5.2"
  }
 },
 "nbformat": 4,
 "nbformat_minor": 1
}
