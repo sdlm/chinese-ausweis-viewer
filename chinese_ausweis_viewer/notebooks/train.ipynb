{
 "cells": [
  {
   "cell_type": "code",
   "execution_count": 1,
   "metadata": {},
   "outputs": [],
   "source": [
    "import imageio\n",
    "from tqdm import tqdm\n",
    "import multiprocessing as mp"
   ]
  },
  {
   "cell_type": "code",
   "execution_count": 2,
   "metadata": {
    "colab": {
     "base_uri": "https://localhost:8080/",
     "height": 34.0
    },
    "colab_type": "code",
    "id": "Ne_CfjJIGepy",
    "outputId": "3a875ac3-c3f8-41a4-8a21-325e25ec0132"
   },
   "outputs": [
    {
     "name": "stderr",
     "output_type": "stream",
     "text": [
      "Using TensorFlow backend.\n"
     ]
    }
   ],
   "source": [
    "%run ../utils/unet.py\n",
    "%run ../utils/helpers.py\n",
    "%run ../utils/generate_flat_bg.py\n",
    "%run ../utils/generate_bg.py\n",
    "%run ../utils/generate_train_set.py"
   ]
  },
  {
   "cell_type": "code",
   "execution_count": 3,
   "metadata": {
    "colab": {},
    "colab_type": "code",
    "id": "aUOU720tHnoJ"
   },
   "outputs": [],
   "source": [
    "h_size = 256\n",
    "w_size = 256\n",
    "start_neurons = 16\n",
    "mask_pool_size = 10\n",
    "train_num = 50\n",
    "bg_admix_iters = 5\n",
    "\n",
    "cores_count = mp.cpu_count()\n",
    "cpu_pool = mp.Pool(processes=cores_count)"
   ]
  },
  {
   "cell_type": "code",
   "execution_count": 4,
   "metadata": {},
   "outputs": [
    {
     "name": "stdout",
     "output_type": "stream",
     "text": [
      "WARNING:tensorflow:From /usr/local/lib/python3.5/dist-packages/tensorflow/python/framework/op_def_library.py:263: colocate_with (from tensorflow.python.framework.ops) is deprecated and will be removed in a future version.\n",
      "Instructions for updating:\n",
      "Colocations handled automatically by placer.\n",
      "WARNING:tensorflow:From /usr/local/lib/python3.5/dist-packages/keras/backend/tensorflow_backend.py:3445: calling dropout (from tensorflow.python.ops.nn_ops) with keep_prob is deprecated and will be removed in a future version.\n",
      "Instructions for updating:\n",
      "Please use `rate` instead of `keep_prob`. Rate should be set to `rate = 1 - keep_prob`.\n"
     ]
    }
   ],
   "source": [
    "train_x = np.zeros((train_num, h_size, w_size, 3), dtype='float32')\n",
    "train_y = np.zeros((train_num, h_size, w_size, 1), dtype='float32')\n",
    "\n",
    "model = get_compiled_model(h_size, w_size, start_neurons)"
   ]
  },
  {
   "cell_type": "code",
   "execution_count": 5,
   "metadata": {},
   "outputs": [],
   "source": [
    "sample_img = imageio.imread('../data/train/original_sample_blur_1000.jpg', pilmode=\"RGB\")\n",
    "mask_img = imageio.imread('../data/train/original_sample_mask_inv_1000.jpg', pilmode=\"RGB\", as_gray=True)\n",
    "\n",
    "original_smpl = np.array(sample_img, dtype=np.uint8)\n",
    "original_mask = np.array(mask_img, dtype=np.uint8)"
   ]
  },
  {
   "cell_type": "code",
   "execution_count": 6,
   "metadata": {},
   "outputs": [],
   "source": [
    "simplest_flat_bg = imageio.imread('../data/train/simplest_flat_bg.jpg', pilmode=\"RGB\")\n",
    "simple_bg = imageio.imread('../data/train/simplest_bg.jpg', pilmode=\"RGB\")"
   ]
  },
  {
   "cell_type": "code",
   "execution_count": 7,
   "metadata": {},
   "outputs": [
    {
     "name": "stderr",
     "output_type": "stream",
     "text": [
      "100%|██████████| 10/10 [00:00<00:00, 12.96it/s]\n"
     ]
    }
   ],
   "source": [
    "mask_pool = [\n",
    "    get_mask(h_size, w_size) \n",
    "    for _ in tqdm(range(mask_pool_size))\n",
    "]"
   ]
  },
  {
   "cell_type": "code",
   "execution_count": 8,
   "metadata": {},
   "outputs": [
    {
     "name": "stdout",
     "output_type": "stream",
     "text": [
      "CPU times: user 16.3 s, sys: 314 ms, total: 16.6 s\n",
      "Wall time: 14.9 s\n"
     ]
    }
   ],
   "source": [
    "%%time\n",
    "for k in range(train_num): # tqdm\n",
    "    img, msk = next_pair(\n",
    "        original_mask,\n",
    "        original_smpl,\n",
    "        simplest_flat_bg,\n",
    "        simple_bg,\n",
    "        mask_pool,\n",
    "    )\n",
    "    train_x[k] = img\n",
    "    train_y[k] = msk"
   ]
  },
  {
   "cell_type": "code",
   "execution_count": 9,
   "metadata": {},
   "outputs": [
    {
     "name": "stdout",
     "output_type": "stream",
     "text": [
      "CPU times: user 382 ms, sys: 809 ms, total: 1.19 s\n",
      "Wall time: 7.49 s\n"
     ]
    }
   ],
   "source": [
    "%%time\n",
    "coros = [\n",
    "    cpu_pool.apply_async(\n",
    "        next_pair, \n",
    "        args=(\n",
    "            original_mask,\n",
    "            original_smpl,\n",
    "            simplest_flat_bg,\n",
    "            simple_bg,\n",
    "            mask_pool,\n",
    "        )\n",
    "    ) \n",
    "    for _ in range(train_num)\n",
    "]\n",
    "for img, msk in [p.get() for p in coros]:\n",
    "    train_x[k] = img\n",
    "    train_y[k] = msk"
   ]
  },
  {
   "cell_type": "code",
   "execution_count": 10,
   "metadata": {},
   "outputs": [
    {
     "data": {
      "text/plain": [
       "(50, 256, 256, 3)"
      ]
     },
     "execution_count": 10,
     "metadata": {},
     "output_type": "execute_result"
    }
   ],
   "source": [
    "train_x.shape"
   ]
  },
  {
   "cell_type": "code",
   "execution_count": null,
   "metadata": {},
   "outputs": [],
   "source": []
  }
 ],
 "metadata": {
  "colab": {
   "collapsed_sections": [],
   "name": "repo_test.ipynb",
   "provenance": [],
   "version": "0.3.2"
  },
  "kernelspec": {
   "display_name": "Python 3",
   "language": "python",
   "name": "python3"
  },
  "language_info": {
   "codemirror_mode": {
    "name": "ipython",
    "version": 3
   },
   "file_extension": ".py",
   "mimetype": "text/x-python",
   "name": "python",
   "nbconvert_exporter": "python",
   "pygments_lexer": "ipython3",
   "version": "3.5.2"
  }
 },
 "nbformat": 4,
 "nbformat_minor": 1
}
