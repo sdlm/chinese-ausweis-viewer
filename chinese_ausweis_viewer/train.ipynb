{
 "cells": [
  {
   "cell_type": "code",
   "execution_count": 1,
   "metadata": {},
   "outputs": [],
   "source": [
    "import cpuinfo\n",
    "import numpy as np\n",
    "import tensorflow as tf\n",
    "import imageio\n",
    "from tqdm import tqdm\n",
    "import multiprocessing as mp\n",
    "import pandas as pd\n",
    "import seaborn as sns"
   ]
  },
  {
   "cell_type": "code",
   "execution_count": 2,
   "metadata": {},
   "outputs": [
    {
     "data": {
      "text/plain": [
       "('Intel(R) Core(TM) i3-6100U CPU @ 2.30GHz', False)"
      ]
     },
     "execution_count": 2,
     "metadata": {},
     "output_type": "execute_result"
    }
   ],
   "source": [
    "cpuinfo.get_cpu_info()['brand'], tf.test.is_gpu_available()"
   ]
  },
  {
   "cell_type": "code",
   "execution_count": 3,
   "metadata": {
    "colab": {
     "base_uri": "https://localhost:8080/",
     "height": 34
    },
    "colab_type": "code",
    "id": "Ne_CfjJIGepy",
    "outputId": "3a875ac3-c3f8-41a4-8a21-325e25ec0132"
   },
   "outputs": [
    {
     "name": "stderr",
     "output_type": "stream",
     "text": [
      "Using TensorFlow backend.\n"
     ]
    }
   ],
   "source": [
    "from utils.unet import get_compiled_model\n",
    "from utils.generate_bg import get_mask\n",
    "from utils.generate_train_set import get_next_batch"
   ]
  },
  {
   "cell_type": "code",
   "execution_count": 4,
   "metadata": {
    "colab": {},
    "colab_type": "code",
    "id": "aUOU720tHnoJ"
   },
   "outputs": [],
   "source": [
    "h_size = 256\n",
    "w_size = 256\n",
    "start_neurons = 8\n",
    "mask_pool_size = 10\n",
    "train_num = 100\n",
    "bg_admix_iters = 2\n",
    "cores_count = mp.cpu_count()"
   ]
  },
  {
   "cell_type": "code",
   "execution_count": 5,
   "metadata": {},
   "outputs": [],
   "source": [
    "train_x = None  # np.zeros((train_num, h_size, w_size, 3), dtype='float32')\n",
    "train_y = None  # np.zeros((train_num, h_size, w_size, 1), dtype='float32')"
   ]
  },
  {
   "cell_type": "code",
   "execution_count": 6,
   "metadata": {},
   "outputs": [
    {
     "name": "stdout",
     "output_type": "stream",
     "text": [
      "WARNING:tensorflow:From /usr/local/lib/python3.5/dist-packages/tensorflow/python/framework/op_def_library.py:263: colocate_with (from tensorflow.python.framework.ops) is deprecated and will be removed in a future version.\n",
      "Instructions for updating:\n",
      "Colocations handled automatically by placer.\n",
      "WARNING:tensorflow:From /usr/local/lib/python3.5/dist-packages/keras/backend/tensorflow_backend.py:3445: calling dropout (from tensorflow.python.ops.nn_ops) with keep_prob is deprecated and will be removed in a future version.\n",
      "Instructions for updating:\n",
      "Please use `rate` instead of `keep_prob`. Rate should be set to `rate = 1 - keep_prob`.\n"
     ]
    }
   ],
   "source": [
    "model = get_compiled_model(h_size, w_size, start_neurons)"
   ]
  },
  {
   "cell_type": "code",
   "execution_count": 7,
   "metadata": {},
   "outputs": [],
   "source": [
    "sample_img = imageio.imread('./data/train/original_sample_blur_1000.jpg', pilmode=\"RGB\")\n",
    "mask_img = imageio.imread('./data/train/original_sample_mask_inv_1000.jpg', pilmode=\"RGB\", as_gray=True)\n",
    "\n",
    "original_smpl = np.array(sample_img, dtype=np.uint8)\n",
    "original_mask = np.array(mask_img, dtype=np.uint8)"
   ]
  },
  {
   "cell_type": "code",
   "execution_count": 8,
   "metadata": {},
   "outputs": [],
   "source": [
    "simplest_flat_bg = imageio.imread('./data/train/simplest_flat_bg.jpg', pilmode=\"RGB\")\n",
    "simple_bg = imageio.imread('./data/train/simplest_bg.jpg', pilmode=\"RGB\")"
   ]
  },
  {
   "cell_type": "code",
   "execution_count": 9,
   "metadata": {},
   "outputs": [
    {
     "name": "stderr",
     "output_type": "stream",
     "text": [
      "100%|██████████| 10/10 [00:00<00:00, 12.23it/s]\n"
     ]
    }
   ],
   "source": [
    "mask_pool = [\n",
    "    get_mask(h_size, w_size) \n",
    "    for _ in tqdm(range(mask_pool_size))\n",
    "]"
   ]
  },
  {
   "cell_type": "code",
   "execution_count": 10,
   "metadata": {},
   "outputs": [
    {
     "name": "stdout",
     "output_type": "stream",
     "text": [
      "CPU times: user 111 ms, sys: 298 ms, total: 408 ms\n",
      "Wall time: 14.5 s\n"
     ]
    }
   ],
   "source": [
    "%%time\n",
    "generate_batch_size = train_num // cores_count\n",
    "with mp.Pool(processes=cores_count) as pool:\n",
    "    results = [\n",
    "        pool.apply_async(\n",
    "            get_next_batch, \n",
    "            args=(\n",
    "                original_mask,\n",
    "                original_smpl,\n",
    "                simplest_flat_bg,\n",
    "                simple_bg,\n",
    "                mask_pool,\n",
    "                generate_batch_size,\n",
    "                h_size, \n",
    "                w_size,\n",
    "            )\n",
    "        ) \n",
    "        for _ in range(cores_count)\n",
    "    ]\n",
    "    for x, y in [res.get() for res in results]:\n",
    "        if train_x is None:\n",
    "            train_x, train_y = x, y\n",
    "        else:\n",
    "            train_x = np.concatenate((train_x, x), axis=0)\n",
    "            train_y = np.concatenate((train_y, y), axis=0)"
   ]
  },
  {
   "cell_type": "code",
   "execution_count": 11,
   "metadata": {},
   "outputs": [
    {
     "data": {
      "text/plain": [
       "(100, 256, 256, 3)"
      ]
     },
     "execution_count": 11,
     "metadata": {},
     "output_type": "execute_result"
    }
   ],
   "source": [
    "train_x.shape"
   ]
  },
  {
   "cell_type": "code",
   "execution_count": 12,
   "metadata": {},
   "outputs": [],
   "source": [
    "# acc = []\n",
    "# val_acc = []\n",
    "# for _ in range (50):\n",
    "#     history = model.fit(train_x, train_y,\n",
    "#                         batch_size=32,\n",
    "#                         epochs=1,\n",
    "#                         verbose=1,\n",
    "#                         validation_split=0.1\n",
    "#                        )    \n",
    "#     acc_ = history.history['my_iou_metric'][0]\n",
    "#     val_acc_ = history.history['val_my_iou_metric'][0]\n",
    "#     acc.append(acc_)\n",
    "#     val_acc.append(val_acc_)\n",
    "#     if acc_ > 0.99:\n",
    "#         break"
   ]
  },
  {
   "cell_type": "code",
   "execution_count": 13,
   "metadata": {},
   "outputs": [],
   "source": [
    "# df = pd.DataFrame({'x': list(range(len(acc))), 'y': acc})\n",
    "# sns.lmplot(x=\"x\", y=\"y\", data=df, order=2);"
   ]
  },
  {
   "cell_type": "code",
   "execution_count": 14,
   "metadata": {},
   "outputs": [],
   "source": [
    "# df = pd.DataFrame({'x': list(range(len(val_acc))), 'y': val_acc})\n",
    "# sns.lmplot(x=\"x\", y=\"y\", data=df, order=2);"
   ]
  }
 ],
 "metadata": {
  "colab": {
   "collapsed_sections": [],
   "name": "repo_test.ipynb",
   "provenance": [],
   "version": "0.3.2"
  },
  "kernelspec": {
   "display_name": "Python 3",
   "language": "python",
   "name": "python3"
  },
  "language_info": {
   "codemirror_mode": {
    "name": "ipython",
    "version": 3
   },
   "file_extension": ".py",
   "mimetype": "text/x-python",
   "name": "python",
   "nbconvert_exporter": "python",
   "pygments_lexer": "ipython3",
   "version": "3.5.2"
  }
 },
 "nbformat": 4,
 "nbformat_minor": 1
}
