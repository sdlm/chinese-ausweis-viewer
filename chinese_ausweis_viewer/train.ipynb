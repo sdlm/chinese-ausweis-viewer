{
 "cells": [
  {
   "cell_type": "code",
   "execution_count": 1,
   "metadata": {},
   "outputs": [],
   "source": [
    "import os\n",
    "import cpuinfo\n",
    "import numpy as np\n",
    "import tensorflow as tf\n",
    "import imageio\n",
    "from tqdm import tqdm\n",
    "import multiprocessing as mp\n",
    "cores_count = mp.cpu_count()\n",
    "import pandas as pd\n",
    "import seaborn as sns\n",
    "import matplotlib.pyplot as plt"
   ]
  },
  {
   "cell_type": "code",
   "execution_count": 2,
   "metadata": {},
   "outputs": [
    {
     "data": {
      "text/plain": [
       "('Intel(R) Core(TM) i5-7500 CPU @ 3.40GHz', False)"
      ]
     },
     "execution_count": 2,
     "metadata": {},
     "output_type": "execute_result"
    }
   ],
   "source": [
    "cpuinfo.get_cpu_info()['brand'], tf.test.is_gpu_available()"
   ]
  },
  {
   "cell_type": "code",
   "execution_count": 3,
   "metadata": {
    "colab": {
     "base_uri": "https://localhost:8080/",
     "height": 34
    },
    "colab_type": "code",
    "id": "Ne_CfjJIGepy",
    "outputId": "3a875ac3-c3f8-41a4-8a21-325e25ec0132"
   },
   "outputs": [
    {
     "name": "stderr",
     "output_type": "stream",
     "text": [
      "Using TensorFlow backend.\n"
     ]
    }
   ],
   "source": [
    "from utils.unet import get_compiled_model\n",
    "from utils.generate_train_set import get_next_batch\n",
    "from utils.card_generator import get_face_pool\n",
    "from utils import configs"
   ]
  },
  {
   "cell_type": "code",
   "execution_count": 4,
   "metadata": {
    "colab": {},
    "colab_type": "code",
    "id": "aUOU720tHnoJ"
   },
   "outputs": [],
   "source": [
    "train_num = 100\n",
    "model_weights_path = './data/weights/n{}/w_000.h5'.format(configs.START_NEURONS)"
   ]
  },
  {
   "cell_type": "code",
   "execution_count": null,
   "metadata": {},
   "outputs": [],
   "source": [
    "train_x = None  # np.zeros((train_num, h_size, w_size, 3), dtype='float32')\n",
    "train_y = None  # np.zeros((train_num, h_size, w_size, 1), dtype='float32')"
   ]
  },
  {
   "cell_type": "markdown",
   "metadata": {},
   "source": [
    "# Construct model"
   ]
  },
  {
   "cell_type": "code",
   "execution_count": null,
   "metadata": {},
   "outputs": [
    {
     "name": "stdout",
     "output_type": "stream",
     "text": [
      "WARNING:tensorflow:From /usr/local/lib/python3.5/dist-packages/tensorflow/python/framework/op_def_library.py:263: colocate_with (from tensorflow.python.framework.ops) is deprecated and will be removed in a future version.\n",
      "Instructions for updating:\n",
      "Colocations handled automatically by placer.\n",
      "WARNING:tensorflow:From /usr/local/lib/python3.5/dist-packages/keras/backend/tensorflow_backend.py:3445: calling dropout (from tensorflow.python.ops.nn_ops) with keep_prob is deprecated and will be removed in a future version.\n",
      "Instructions for updating:\n",
      "Please use `rate` instead of `keep_prob`. Rate should be set to `rate = 1 - keep_prob`.\n"
     ]
    }
   ],
   "source": [
    "model = get_compiled_model();"
   ]
  },
  {
   "cell_type": "code",
   "execution_count": null,
   "metadata": {},
   "outputs": [],
   "source": [
    "only_gi_bg = False\n",
    "if os.path.isfile(model_weights_path):\n",
    "    only_gi_bg = True\n",
    "    model.load_weights(model_weights_path)"
   ]
  },
  {
   "cell_type": "markdown",
   "metadata": {},
   "source": [
    "# Generate train set\n",
    "- get_gi_bg (60%)\n",
    "- generate_rand_bg (30%)\n",
    "- get_flat_simple_bg (5%)\n",
    "- get_simple_bg (5%)"
   ]
  },
  {
   "cell_type": "code",
   "execution_count": null,
   "metadata": {},
   "outputs": [],
   "source": [
    "face_pool = get_face_pool()\n"
   ]
  },
  {
   "cell_type": "code",
   "execution_count": null,
   "metadata": {},
   "outputs": [],
   "source": [
    "%%time\n",
    "generate_batch_size = train_num // cores_count\n",
    "with mp.Pool(processes=cores_count) as pool:\n",
    "    results = [\n",
    "        pool.apply_async(\n",
    "            get_next_batch, \n",
    "            args=(face_pool, generate_batch_size, only_gi_bg)\n",
    "        )\n",
    "        for _ in range(cores_count)\n",
    "    ]\n",
    "    for x, y in [res.get() for res in results]:\n",
    "        if train_x is None:\n",
    "            train_x, train_y = x, y\n",
    "        else:\n",
    "            train_x = np.concatenate((train_x, x), axis=0)\n",
    "            train_y = np.concatenate((train_y, y), axis=0)"
   ]
  },
  {
   "cell_type": "code",
   "execution_count": null,
   "metadata": {},
   "outputs": [],
   "source": [
    "rows = 25\n",
    "cols = 4\n",
    "fig, axes = plt.subplots(rows, cols, figsize=(4*cols,4*rows))\n",
    "for i in range(rows):\n",
    "    for j in range(cols):\n",
    "        axes[i, j].set_axis_off()\n",
    "        axes[i, j].imshow(train_x[i * cols + j]);"
   ]
  },
  {
   "cell_type": "code",
   "execution_count": null,
   "metadata": {},
   "outputs": [],
   "source": [
    "rows = 2\n",
    "cols = 4\n",
    "fig, axes = plt.subplots(rows, cols, figsize=(4*cols,4*rows))\n",
    "for i in range(rows):\n",
    "    for j in range(cols):\n",
    "        axes[i, j].set_axis_off()\n",
    "        axes[i, j].imshow(train_y[i * cols + j].reshape((256, 256)));"
   ]
  },
  {
   "cell_type": "code",
   "execution_count": null,
   "metadata": {},
   "outputs": [],
   "source": [
    "# acc = []\n",
    "# val_acc = []\n",
    "# for _ in range (10):\n",
    "#     history = model.fit(train_x, train_y,\n",
    "#                         batch_size=32,\n",
    "#                         epochs=1,\n",
    "#                         verbose=1,\n",
    "#                         validation_split=0.1\n",
    "#                        )    \n",
    "#     acc_ = history.history['my_iou_metric'][0]\n",
    "#     val_acc_ = history.history['val_my_iou_metric'][0]\n",
    "#     acc.append(acc_)\n",
    "#     val_acc.append(val_acc_)\n",
    "#     if acc_ > 0.995:\n",
    "#         break"
   ]
  },
  {
   "cell_type": "code",
   "execution_count": null,
   "metadata": {},
   "outputs": [],
   "source": [
    "# df = pd.DataFrame({'x': list(range(len(acc))), 'y': acc})\n",
    "# sns.lmplot(x=\"x\", y=\"y\", data=df, order=2);"
   ]
  },
  {
   "cell_type": "code",
   "execution_count": null,
   "metadata": {},
   "outputs": [],
   "source": [
    "# df = pd.DataFrame({'x': list(range(len(val_acc))), 'y': val_acc})\n",
    "# sns.lmplot(x=\"x\", y=\"y\", data=df, order=2);"
   ]
  },
  {
   "cell_type": "code",
   "execution_count": null,
   "metadata": {},
   "outputs": [],
   "source": [
    "# model.save_weights(model_weights_path)"
   ]
  }
 ],
 "metadata": {
  "colab": {
   "collapsed_sections": [],
   "name": "repo_test.ipynb",
   "provenance": [],
   "version": "0.3.2"
  },
  "kernelspec": {
   "display_name": "Python 3",
   "language": "python",
   "name": "python3"
  },
  "language_info": {
   "codemirror_mode": {
    "name": "ipython",
    "version": 3
   },
   "file_extension": ".py",
   "mimetype": "text/x-python",
   "name": "python",
   "nbconvert_exporter": "python",
   "pygments_lexer": "ipython3",
   "version": "3.5.2"
  }
 },
 "nbformat": 4,
 "nbformat_minor": 1
}
