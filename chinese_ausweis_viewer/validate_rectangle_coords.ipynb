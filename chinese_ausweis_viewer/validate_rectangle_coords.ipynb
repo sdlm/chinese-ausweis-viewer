{
 "cells": [
  {
   "cell_type": "code",
   "execution_count": 17,
   "metadata": {},
   "outputs": [],
   "source": [
    "import numpy as np\n",
    "import torch\n",
    "from PIL import Image, ImageDraw\n",
    "from torch.utils import data\n",
    "from torchvision.transforms import transforms\n",
    "import math\n",
    "\n",
    "from matplotlib.pyplot import imshow\n",
    "%matplotlib inline"
   ]
  },
  {
   "cell_type": "code",
   "execution_count": 400,
   "metadata": {},
   "outputs": [],
   "source": [
    "class RectangleDataset(data.Dataset):\n",
    "    \"\"\"Rectangle in black background\"\"\"\n",
    "\n",
    "    IMG_SIZE = 320\n",
    "    WIDTH = 130\n",
    "    HEIGHT = 80\n",
    "    MARGIN = math.sqrt((WIDTH / 2) ** 2 + (HEIGHT / 2) ** 2) + 50\n",
    "    MAX_ANGLE = 45\n",
    "\n",
    "    def __init__(self, count: int):\n",
    "        volatility = self.IMG_SIZE - 2 * self.MARGIN\n",
    "        x_center = np.random.randint(volatility, size=count) + self.MARGIN\n",
    "        y_center = np.random.randint(volatility, size=count) + self.MARGIN\n",
    "        angle = np.random.randint(self.MAX_ANGLE, size=count)\n",
    "#         to_tensor = transforms.ToTensor()\n",
    "        self.labels = [self.get_rectangle_coords(x_center[i], y_center[i], angle[i]) for i in range(count)]\n",
    "        self.values = [\n",
    "            self.generate_image(x_center[i], y_center[i], angle[i], self.labels[i]) for i in range(count)\n",
    "        ]\n",
    "\n",
    "    def generate_image(self, x: float, y: float, theta: int, coords: np.ndarray) -> Image:\n",
    "        image = Image.new(\"RGB\", (self.IMG_SIZE, self.IMG_SIZE))\n",
    "        draw = ImageDraw.Draw(image)\n",
    "        draw.rectangle([(0, 0), image.size], fill=\"black\")\n",
    "        draw.rectangle(self.rectangle_at_center, fill=\"white\")\n",
    "        image = image.rotate(theta, resample=Image.BILINEAR, expand=False)\n",
    "        center = self.IMG_SIZE / 2\n",
    "        image = self.shift_image(image, x - center, y - center)\n",
    "        draw2 = ImageDraw.Draw(image)\n",
    "        for point in coords:\n",
    "            px = point.item(0, 0) #+ center\n",
    "            py = point.item(0, 1) #+ center\n",
    "            d = 10\n",
    "            draw2.ellipse((px - d, py - d, px + d, py + d), fill=\"red\")\n",
    "        return image\n",
    "\n",
    "    @property\n",
    "    def rectangle_at_center(self):\n",
    "        center = self.IMG_SIZE / 2\n",
    "        return [\n",
    "            (center - self.WIDTH / 2, center - self.HEIGHT / 2),\n",
    "            (center + self.WIDTH / 2, center + self.HEIGHT / 2),\n",
    "        ]\n",
    "\n",
    "    @staticmethod\n",
    "    def shift_image(img, shift_x, shift_y):\n",
    "        return img.transform(img.size, Image.AFFINE, (1, 0, -shift_x, 0, 1, -shift_y))\n",
    "\n",
    "    def get_rectangle_coords(self, x: int, y: int, theta: int) -> np.ndarray:\n",
    "        theta_ = theta / 180.0 * np.pi\n",
    "        center = self.IMG_SIZE / 2\n",
    "        rotation_matrix = np.matrix(((np.cos(theta_), -np.sin(theta_)), (np.sin(theta_), np.cos(theta_))))\n",
    "        coords = self.get_straight_rectangle_coords(0, 0) @ rotation_matrix\n",
    "        coords[:, 0] = coords[:, 0] + x\n",
    "        coords[:, 1] = coords[:, 1] + y\n",
    "        return coords\n",
    "\n",
    "    def get_straight_rectangle_coords(self, x: float, y: float) -> np.matrix:\n",
    "        return np.matrix(\n",
    "            (\n",
    "                (x + self.WIDTH / 2, y + self.HEIGHT / 2),\n",
    "                (x + self.WIDTH / 2, y - self.HEIGHT / 2),\n",
    "                (x - self.WIDTH / 2, y + self.HEIGHT / 2),\n",
    "                (x - self.WIDTH / 2, y - self.HEIGHT / 2),\n",
    "            )\n",
    "        )\n",
    "\n",
    "    def __len__(self):\n",
    "        return len(self.values)\n",
    "\n",
    "    def __getitem__(self, index):\n",
    "        \"\"\"Generates one sample of data\"\"\"\n",
    "        return self.values[index], self.labels[index]"
   ]
  },
  {
   "cell_type": "code",
   "execution_count": 408,
   "metadata": {},
   "outputs": [
    {
     "data": {
      "text/plain": [
       "matrix([[219.86510945, 141.94248555],\n",
       "        [164.29243982,  84.39530152],\n",
       "        [126.35093541, 232.24807371],\n",
       "        [ 70.77826577, 174.70088968]])"
      ]
     },
     "execution_count": 408,
     "metadata": {},
     "output_type": "execute_result"
    },
    {
     "data": {
      "image/png": "[encoded data removed]",
      "text/plain": [
       "<Figure size 432x288 with 1 Axes>"
      ]
     },
     "metadata": {
      "needs_background": "light"
     },
     "output_type": "display_data"
    }
   ],
   "source": [
    "dataset = RectangleDataset(1)\n",
    "imshow(np.asarray(dataset[0][0]));\n",
    "dataset[0][1]"
   ]
  }
 ],
 "metadata": {
  "kernelspec": {
   "display_name": "Python 3",
   "language": "python",
   "name": "python3"
  },
  "language_info": {
   "codemirror_mode": {
    "name": "ipython",
    "version": 3
   },
   "file_extension": ".py",
   "mimetype": "text/x-python",
   "name": "python",
   "nbconvert_exporter": "python",
   "pygments_lexer": "ipython3",
   "version": "3.7.3"
  }
 },
 "nbformat": 4,
 "nbformat_minor": 2
}
