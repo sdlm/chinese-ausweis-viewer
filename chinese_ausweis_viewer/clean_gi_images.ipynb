{
 "cells": [
  {
   "cell_type": "code",
   "execution_count": 1,
   "metadata": {},
   "outputs": [],
   "source": [
    "from typing import List\n",
    "import multiprocessing as mp\n",
    "import os\n",
    "import imageio"
   ]
  },
  {
   "cell_type": "code",
   "execution_count": 2,
   "metadata": {},
   "outputs": [],
   "source": [
    "def chunks(list_, size):\n",
    "    \"\"\"Yield successive n-sized chunks from l.\"\"\"\n",
    "    for i in range(0, len(list_), size):\n",
    "        yield list_[i:i + size]\n",
    "\n",
    "def try_load_images(path_list: str) -> List[str]:\n",
    "    bad_img_path_list = []\n",
    "    for path in path_list:\n",
    "        try:\n",
    "            imageio.imread(path, pilmode=\"RGB\")\n",
    "        except:\n",
    "            bad_img_path_list.append(path)\n",
    "        else:\n",
    "            continue\n",
    "    return bad_img_path_list\n",
    "\n",
    "def get_all_bad_filenames(dirpath: str) -> List[str]:\n",
    "    path_list = [\n",
    "        os.path.join(dirpath, filename)\n",
    "        for filename in os.listdir(dirpath)\n",
    "    ]\n",
    "    path_chunk_list = list(chunks(path_list, 100))\n",
    "    with mp.Pool(mp.cpu_count()) as p:\n",
    "        bad_img_path_chunk_list = p.map(try_load_images, path_chunk_list)\n",
    "    \n",
    "    return [x for p_list in bad_img_path_chunk_list for x in p_list]\n",
    "\n",
    "def rm_bad_files_from_gi_images(dirpath: str):\n",
    "    bad_file_path_list = get_all_bad_filenames(dirpath)\n",
    "    \n",
    "    for path in bad_file_path_list:\n",
    "        os.remove(path)"
   ]
  },
  {
   "cell_type": "code",
   "execution_count": 3,
   "metadata": {},
   "outputs": [
    {
     "name": "stderr",
     "output_type": "stream",
     "text": [
      "/home/sdlm/.local/share/virtualenvs/chinese-ausweis-viewer-t8v6qUJl/lib/python3.7/site-packages/PIL/TiffImagePlugin.py:786: UserWarning: Possibly corrupt EXIF data.  Expecting to read 8 bytes but only got 4. Skipping tag 41486\n",
      "  \" Skipping tag %s\" % (size, len(data), tag)\n",
      "/home/sdlm/.local/share/virtualenvs/chinese-ausweis-viewer-t8v6qUJl/lib/python3.7/site-packages/PIL/TiffImagePlugin.py:786: UserWarning: Possibly corrupt EXIF data.  Expecting to read 8 bytes but only got 0. Skipping tag 41487\n",
      "  \" Skipping tag %s\" % (size, len(data), tag)\n"
     ]
    }
   ],
   "source": [
    "bad_file_path_list = get_all_bad_filenames('./data/images');"
   ]
  },
  {
   "cell_type": "code",
   "execution_count": 4,
   "metadata": {},
   "outputs": [
    {
     "data": {
      "text/plain": [
       "(14740, 323)"
      ]
     },
     "execution_count": 4,
     "metadata": {},
     "output_type": "execute_result"
    }
   ],
   "source": [
    "len(os.listdir('./data/images')), len(bad_file_path_list)"
   ]
  },
  {
   "cell_type": "code",
   "execution_count": 5,
   "metadata": {},
   "outputs": [],
   "source": [
    "for path in bad_file_path_list:\n",
    "    os.remove(path)"
   ]
  },
  {
   "cell_type": "code",
   "execution_count": 6,
   "metadata": {},
   "outputs": [
    {
     "data": {
      "text/plain": [
       "14417"
      ]
     },
     "execution_count": 6,
     "metadata": {},
     "output_type": "execute_result"
    }
   ],
   "source": [
    "len(os.listdir('./data/images'))"
   ]
  }
 ],
 "metadata": {
  "kernelspec": {
   "display_name": "Python 3",
   "language": "python",
   "name": "python3"
  },
  "language_info": {
   "codemirror_mode": {
    "name": "ipython",
    "version": 3
   },
   "file_extension": ".py",
   "mimetype": "text/x-python",
   "name": "python",
   "nbconvert_exporter": "python",
   "pygments_lexer": "ipython3",
   "version": "3.7.3"
  }
 },
 "nbformat": 4,
 "nbformat_minor": 2
}
